{
 "cells": [
  {
   "cell_type": "markdown",
   "id": "34568bb4",
   "metadata": {},
   "source": [
    "SY notebook"
   ]
  },
  {
   "cell_type": "code",
   "execution_count": null,
   "id": "89477d78",
   "metadata": {
    "vscode": {
     "languageId": "plaintext"
    }
   },
   "outputs": [],
   "source": []
  }
 ],
 "metadata": {
  "language_info": {
   "name": "python"
  }
 },
 "nbformat": 4,
 "nbformat_minor": 5
}
